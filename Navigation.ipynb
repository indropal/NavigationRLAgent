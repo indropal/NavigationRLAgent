{
 "cells": [
  {
   "cell_type": "markdown",
   "metadata": {},
   "source": [
    "# Navigation\n",
    "\n",
    "---\n",
    "\n",
    "In this notebook, you will learn how to use the Unity ML-Agents environment for the first project of the [Deep Reinforcement Learning Nanodegree](https://www.udacity.com/course/deep-reinforcement-learning-nanodegree--nd893).\n",
    "\n",
    "### 1. Start the Environment\n",
    "\n",
    "We begin by importing some necessary packages.  If the code cell below returns an error, please revisit the project instructions to double-check that you have installed [Unity ML-Agents](https://github.com/Unity-Technologies/ml-agents/blob/master/docs/Installation.md) and [NumPy](http://www.numpy.org/)."
   ]
  },
  {
   "cell_type": "code",
   "execution_count": null,
   "metadata": {},
   "outputs": [],
   "source": [
    "!pip -q install ./python"
   ]
  },
  {
   "cell_type": "code",
   "execution_count": 1,
   "metadata": {},
   "outputs": [],
   "source": [
    "from unityagents import UnityEnvironment\n",
    "import numpy as np"
   ]
  },
  {
   "cell_type": "markdown",
   "metadata": {},
   "source": [
    "Next, we will start the environment!  **_Before running the code cell below_**, change the `file_name` parameter to match the location of the Unity environment that you downloaded.\n",
    "\n",
    "- **Mac**: `\"path/to/Banana.app\"`\n",
    "- **Windows** (x86): `\"path/to/Banana_Windows_x86/Banana.exe\"`\n",
    "- **Windows** (x86_64): `\"path/to/Banana_Windows_x86_64/Banana.exe\"`\n",
    "- **Linux** (x86): `\"path/to/Banana_Linux/Banana.x86\"`\n",
    "- **Linux** (x86_64): `\"path/to/Banana_Linux/Banana.x86_64\"`\n",
    "- **Linux** (x86, headless): `\"path/to/Banana_Linux_NoVis/Banana.x86\"`\n",
    "- **Linux** (x86_64, headless): `\"path/to/Banana_Linux_NoVis/Banana.x86_64\"`\n",
    "\n",
    "For instance, if you are using a Mac, then you downloaded `Banana.app`.  If this file is in the same folder as the notebook, then the line below should appear as follows:\n",
    "```\n",
    "env = UnityEnvironment(file_name=\"Banana.app\")\n",
    "```"
   ]
  },
  {
   "cell_type": "code",
   "execution_count": 2,
   "metadata": {},
   "outputs": [
    {
     "name": "stderr",
     "output_type": "stream",
     "text": [
      "INFO:unityagents:\n",
      "'Academy' started successfully!\n",
      "Unity Academy name: Academy\n",
      "        Number of Brains: 1\n",
      "        Number of External Brains : 1\n",
      "        Lesson number : 0\n",
      "        Reset Parameters :\n",
      "\t\t\n",
      "Unity brain name: BananaBrain\n",
      "        Number of Visual Observations (per agent): 0\n",
      "        Vector Observation space type: continuous\n",
      "        Vector Observation space size (per agent): 37\n",
      "        Number of stacked Vector Observation: 1\n",
      "        Vector Action space type: discrete\n",
      "        Vector Action space size (per agent): 4\n",
      "        Vector Action descriptions: , , , \n"
     ]
    }
   ],
   "source": [
    "env = UnityEnvironment(file_name=\"./Navigation_Environment/Banana.exe\")"
   ]
  },
  {
   "cell_type": "markdown",
   "metadata": {},
   "source": [
    "Environments contain **_brains_** which are responsible for deciding the actions of their associated agents. Here we check for the first brain available, and set it as the default brain we will be controlling from Python."
   ]
  },
  {
   "cell_type": "code",
   "execution_count": null,
   "metadata": {},
   "outputs": [],
   "source": [
    "# get the default brain\n",
    "brain_name = env.brain_names[0]\n",
    "brain = env.brains[brain_name]"
   ]
  },
  {
   "cell_type": "markdown",
   "metadata": {},
   "source": [
    "### 2. Examine the State and Action Spaces\n",
    "\n",
    "The simulation contains a single agent that navigates a large environment.  At each time step, it has four actions at its disposal:\n",
    "- `0` - walk forward \n",
    "- `1` - walk backward\n",
    "- `2` - turn left\n",
    "- `3` - turn right\n",
    "\n",
    "The state space has `37` dimensions and contains the agent's velocity, along with ray-based perception of objects around agent's forward direction.  A reward of `+1` is provided for collecting a yellow banana, and a reward of `-1` is provided for collecting a blue banana. \n",
    "\n",
    "Run the code cell below to print some information about the environment."
   ]
  },
  {
   "cell_type": "code",
   "execution_count": 2,
   "metadata": {
    "collapsed": true
   },
   "outputs": [
    {
     "ename": "NameError",
     "evalue": "name 'env' is not defined",
     "output_type": "error",
     "traceback": [
      "\u001b[1;31m---------------------------------------------------------------------------\u001b[0m",
      "\u001b[1;31mNameError\u001b[0m                                 Traceback (most recent call last)",
      "\u001b[1;32m<ipython-input-2-c6aa12bad02b>\u001b[0m in \u001b[0;36m<module>\u001b[1;34m\u001b[0m\n\u001b[0;32m      1\u001b[0m \u001b[1;31m# reset the environment\u001b[0m\u001b[1;33m\u001b[0m\u001b[1;33m\u001b[0m\u001b[1;33m\u001b[0m\u001b[0m\n\u001b[1;32m----> 2\u001b[1;33m \u001b[0menv_info\u001b[0m \u001b[1;33m=\u001b[0m \u001b[0menv\u001b[0m\u001b[1;33m.\u001b[0m\u001b[0mreset\u001b[0m\u001b[1;33m(\u001b[0m\u001b[0mtrain_mode\u001b[0m\u001b[1;33m=\u001b[0m\u001b[1;32mTrue\u001b[0m\u001b[1;33m)\u001b[0m\u001b[1;33m[\u001b[0m\u001b[0mbrain_name\u001b[0m\u001b[1;33m]\u001b[0m\u001b[1;33m\u001b[0m\u001b[1;33m\u001b[0m\u001b[0m\n\u001b[0m\u001b[0;32m      3\u001b[0m \u001b[1;33m\u001b[0m\u001b[0m\n\u001b[0;32m      4\u001b[0m \u001b[1;31m# number of agents in the environment\u001b[0m\u001b[1;33m\u001b[0m\u001b[1;33m\u001b[0m\u001b[1;33m\u001b[0m\u001b[0m\n\u001b[0;32m      5\u001b[0m \u001b[0mprint\u001b[0m\u001b[1;33m(\u001b[0m\u001b[1;34m'Number of agents:'\u001b[0m\u001b[1;33m,\u001b[0m \u001b[0mlen\u001b[0m\u001b[1;33m(\u001b[0m\u001b[0menv_info\u001b[0m\u001b[1;33m.\u001b[0m\u001b[0magents\u001b[0m\u001b[1;33m)\u001b[0m\u001b[1;33m)\u001b[0m\u001b[1;33m\u001b[0m\u001b[1;33m\u001b[0m\u001b[0m\n",
      "\u001b[1;31mNameError\u001b[0m: name 'env' is not defined"
     ]
    }
   ],
   "source": [
    "# reset the environment\n",
    "env_info = env.reset(train_mode=True)[brain_name]\n",
    "\n",
    "# number of agents in the environment\n",
    "print('Number of agents:', len(env_info.agents))\n",
    "\n",
    "# number of actions\n",
    "action_size = brain.vector_action_space_size\n",
    "print('Number of actions:', action_size)\n",
    "\n",
    "# examine the state space \n",
    "state = env_info.vector_observations[0]\n",
    "print('States look like:', state)\n",
    "state_size = len(state)\n",
    "print('States have length:', state_size)"
   ]
  },
  {
   "cell_type": "markdown",
   "metadata": {},
   "source": [
    "### 3. Take Random Actions in the Environment\n",
    "\n",
    "In the next code cell, you will learn how to use the Python API to control the agent and receive feedback from the environment.\n",
    "\n",
    "Once this cell is executed, you will watch the agent's performance, if it selects an action (uniformly) at random with each time step.  A window should pop up that allows you to observe the agent, as it moves through the environment.  \n",
    "\n",
    "Of course, as part of the project, you'll have to change the code so that the agent is able to use its experience to gradually choose better actions when interacting with the environment!"
   ]
  },
  {
   "cell_type": "code",
   "execution_count": 1,
   "metadata": {},
   "outputs": [
    {
     "name": "stderr",
     "output_type": "stream",
     "text": [
      "INFO:unityagents:\n",
      "'Academy' started successfully!\n",
      "Unity Academy name: Academy\n",
      "        Number of Brains: 1\n",
      "        Number of External Brains : 1\n",
      "        Lesson number : 0\n",
      "        Reset Parameters :\n",
      "\t\t\n",
      "Unity brain name: BananaBrain\n",
      "        Number of Visual Observations (per agent): 0\n",
      "        Vector Observation space type: continuous\n",
      "        Vector Observation space size (per agent): 37\n",
      "        Number of stacked Vector Observation: 1\n",
      "        Vector Action space type: discrete\n",
      "        Vector Action space size (per agent): 4\n",
      "        Vector Action descriptions: , , , \n"
     ]
    }
   ],
   "source": [
    "from unityagents import UnityEnvironment\n",
    "import numpy as np\n",
    "\n",
    "env = UnityEnvironment(file_name=\"./Navigation_Environment/Banana.exe\")"
   ]
  },
  {
   "cell_type": "code",
   "execution_count": 2,
   "metadata": {},
   "outputs": [
    {
     "name": "stdout",
     "output_type": "stream",
     "text": [
      "Timesteps: 299, Reward: 0.0, Done: True                                                            \n",
      "Score: 1.0\n",
      "Total Time taken: 30.120036840438843 seconds\n"
     ]
    }
   ],
   "source": [
    "# Load unity Environment\n",
    "import time\n",
    "from collections import namedtuple\n",
    "\n",
    "import numpy as np\n",
    "import torch\n",
    "from DeepQAgent.Agent import ExpBuffer, Agent\n",
    "from DeepQAgent.QNetwork import QNetwork\n",
    "\n",
    "# experience = namedtuple('experience', ['state', 'action', 'reward', 'next_state', 'done'])\n",
    "# experiences = []\n",
    "\n",
    "brain_name = env.brain_names[0]\n",
    "brain = env.brains[brain_name]\n",
    "\n",
    "env_info = env.reset(train_mode=False)[brain_name] # reset the environment\n",
    "\n",
    "action_size = brain.vector_action_space_size       # get the size of the action space\n",
    "state = env_info.vector_observations[0]            # get the current state\n",
    "state_size = len(state)\n",
    "score = 0                                          # initialize the score\n",
    "seed = 0\n",
    "\n",
    "qnet = QNetwork(len(state), action_size, 0)\n",
    "buff = ExpBuffer(200, 0, torch.device('cuda:0' if torch.cuda.is_available() else 'cpu:0'))\n",
    "\n",
    "agent = Agent( state_size, action_size, seed,\n",
    "               torch.device('cuda:0' if torch.cuda.is_available() else 'cpu:0')\n",
    "             )\n",
    "\n",
    "start_time = time.time()\n",
    "t = 0\n",
    "\n",
    "while True:\n",
    "    action = np.random.randint(action_size)        # select an action\n",
    "    env_info = env.step(action)[brain_name]        # send the action to the environment\n",
    "    next_state = env_info.vector_observations[0]   # get the next state\n",
    "    reward = env_info.rewards[0]                   # get the reward\n",
    "    done = env_info.local_done[0]                  # see if episode has finished\n",
    "    score += reward                                # update the score\n",
    "\n",
    "    est = qnet(torch.from_numpy(state).float() ).detach().cpu().max().item()\n",
    "    tar = qnet(torch.from_numpy(next_state).float() ).detach().cpu().max().item()\n",
    "    \n",
    "    buff.add_exp( target = tar,\n",
    "                  estimate = est,\n",
    "                  state = state, action = action, reward = reward,\n",
    "                  next_state = next_state, done = done\n",
    "                )\n",
    "    \n",
    "    \n",
    "    state = next_state                             # roll over the state to next time step\n",
    "    \n",
    "    # inspect the Experience tuples:\n",
    "    # print(\"\\rstate: \",state,\" | action: \",action,\" | reward: \", reward,\" | next_state: \", next_state, \" | done: \", done, end = \"\")    \n",
    "    # experiences.append( experience(state, action, reward, next_state, done) ) # store the experience tuples\n",
    "    \n",
    "    \"\"\"\n",
    "    log = \"\\rTimesteps: {}, Reward: {}, Done: {}, Est: {}, Tar: {} +> {}\".format(t, reward, done, est.data.numpy(),\n",
    "                                                                                 tar.data.numpy(),\n",
    "                                                                                 (abs(est - tar) + 0.0005)**0.95\n",
    "                                                                                )\n",
    "    \"\"\"\n",
    "\n",
    "    log = \"\\rTimesteps: {}, Reward: {}, Done: {}\".format( t, reward, done )\n",
    "    \n",
    "    log = log + \" \"*(100 - len(log))\n",
    "    print(log, end = \"\\r\")\n",
    "          \n",
    "    \n",
    "    if done:                                       # exit loop if episode finished\n",
    "        break\n",
    "    \n",
    "    t += 1                                         # update timestep counter\n",
    "    \n",
    "    \n",
    "end_time = time.time()\n",
    "\n",
    "print(\"\\nScore: {}\".format(score))\n",
    "\n",
    "print(\"Total Time taken: {} seconds\".format(end_time - start_time))\n",
    "\n",
    "# Close the Environment post completion\n",
    "env.close()"
   ]
  },
  {
   "cell_type": "code",
   "execution_count": 3,
   "metadata": {},
   "outputs": [],
   "source": [
    "# env.close()"
   ]
  },
  {
   "cell_type": "code",
   "execution_count": 4,
   "metadata": {},
   "outputs": [
    {
     "data": {
      "text/plain": [
       "300"
      ]
     },
     "execution_count": 4,
     "metadata": {},
     "output_type": "execute_result"
    }
   ],
   "source": [
    "len(buff) # experiences[0]"
   ]
  },
  {
   "cell_type": "code",
   "execution_count": 5,
   "metadata": {},
   "outputs": [],
   "source": [
    "s, a, r, n_s, d, p = buff.sample()"
   ]
  },
  {
   "cell_type": "code",
   "execution_count": 6,
   "metadata": {},
   "outputs": [
    {
     "data": {
      "text/plain": [
       "tensor([[0.0028],\n",
       "        [0.0042],\n",
       "        [0.0025],\n",
       "        [0.0016],\n",
       "        [0.0018],\n",
       "        [0.0072],\n",
       "        [0.0038],\n",
       "        [0.0028],\n",
       "        [0.0039],\n",
       "        [0.0078]], device='cuda:0')"
      ]
     },
     "execution_count": 6,
     "metadata": {},
     "output_type": "execute_result"
    }
   ],
   "source": [
    "p[:10]# p"
   ]
  },
  {
   "cell_type": "code",
   "execution_count": 7,
   "metadata": {},
   "outputs": [
    {
     "name": "stdout",
     "output_type": "stream",
     "text": [
      "Triggering Learn | Buffer Size: 128 | t: 0\n",
      "tensor(0.0170, device='cuda:0', grad_fn=<MeanBackward0>)\n",
      "Triggering Learn | Buffer Size: 136 | t: 0\n",
      "tensor(0.0132, device='cuda:0', grad_fn=<MeanBackward0>)\n",
      "Triggering Learn | Buffer Size: 144 | t: 0\n",
      "tensor(0.0017, device='cuda:0', grad_fn=<MeanBackward0>)\n",
      "Triggering Learn | Buffer Size: 152 | t: 0\n",
      "tensor(0.0023, device='cuda:0', grad_fn=<MeanBackward0>)\n",
      "Triggering Learn | Buffer Size: 160 | t: 0\n",
      "tensor(0.0013, device='cuda:0', grad_fn=<MeanBackward0>)\n",
      "Triggering Learn | Buffer Size: 168 | t: 0\n",
      "tensor(0.0011, device='cuda:0', grad_fn=<MeanBackward0>)\n",
      "Triggering Learn | Buffer Size: 176 | t: 0\n",
      "tensor(0.0008, device='cuda:0', grad_fn=<MeanBackward0>)\n",
      "Triggering Learn | Buffer Size: 184 | t: 0\n",
      "tensor(0.0008, device='cuda:0', grad_fn=<MeanBackward0>)\n",
      "Triggering Learn | Buffer Size: 192 | t: 0\n",
      "tensor(0.0009, device='cuda:0', grad_fn=<MeanBackward0>)\n",
      "Triggering Learn | Buffer Size: 200 | t: 0\n",
      "tensor(0.0010, device='cuda:0', grad_fn=<MeanBackward0>)\n"
     ]
    }
   ],
   "source": [
    "from DeepQAgent.Agent import ExpBuffer, Agent\n",
    "from DeepQAgent.QNetwork import QNetwork\n",
    "\n",
    "epsilon = 1.0\n",
    "for idx, sample_state in enumerate(s[:200]):\n",
    "    \n",
    "    sample_state = sample_state.detach().cpu().data.numpy()\n",
    "    t_action, t_estimate = agent.act(sample_state, epsilon);\n",
    "    # print(t_action, t_estimate, t_estimate.cpu().data.numpy()[0][t_action])\n",
    "\n",
    "    # get the reward, action, dones -> take the next state\n",
    "    t_target = r[idx]+agent.qnet_target( n_s[idx] ).detach().cpu().max()\n",
    "    t_estimate = t_estimate.cpu().data.numpy()[0][t_action]\n",
    "    # print(t_target.cpu().data.numpy()[0], t_estimate)\n",
    "    \n",
    "    \"\"\"\n",
    "    s[idx] = s[idx].detach().cpu().data.numpy()\n",
    "    r[idx] = r[idx].detach().cpu().data.numpy()\n",
    "    n_s[idx] = n_s[idx].detach().cpu().data.numpy()\n",
    "    d[idx] = d[idx].detach().cpu().data.numpy()\n",
    "    \"\"\"\n",
    "    # print(n_s[idx])\n",
    "    \n",
    "    agent.step( t_target.cpu().data.numpy()[0], t_estimate,\n",
    "                s[idx].cpu().data.numpy(), t_action, r[idx].cpu().data.numpy(),\n",
    "                n_s[idx].cpu().data.numpy(), d[idx].cpu().data.numpy()\n",
    "              )\n",
    "    \n",
    "    #agent.step( sample_state )\n",
    "    epsilon *= 0.99995"
   ]
  },
  {
   "cell_type": "code",
   "execution_count": 8,
   "metadata": {},
   "outputs": [],
   "source": [
    "a = torch.from_numpy( np.array([i for i in range(12, 18)]) )"
   ]
  },
  {
   "cell_type": "code",
   "execution_count": 10,
   "metadata": {},
   "outputs": [
    {
     "data": {
      "text/plain": [
       "tensor([12, 13, 14, 15, 16, 17], dtype=torch.int32)"
      ]
     },
     "execution_count": 10,
     "metadata": {},
     "output_type": "execute_result"
    }
   ],
   "source": [
    "a"
   ]
  },
  {
   "cell_type": "code",
   "execution_count": 15,
   "metadata": {},
   "outputs": [
    {
     "data": {
      "text/plain": [
       "tensor([144, 169, 196, 225, 256, 289], dtype=torch.int32)"
      ]
     },
     "execution_count": 15,
     "metadata": {},
     "output_type": "execute_result"
    }
   ],
   "source": [
    "a = a**2\n",
    "a"
   ]
  },
  {
   "cell_type": "code",
   "execution_count": 16,
   "metadata": {},
   "outputs": [
    {
     "data": {
      "text/plain": [
       "tensor([2, 3, 4, 5, 6, 7], dtype=torch.int32)"
      ]
     },
     "execution_count": 16,
     "metadata": {},
     "output_type": "execute_result"
    }
   ],
   "source": [
    "b = torch.from_numpy( np.array([i for i in range(2, 8)]) )\n",
    "b"
   ]
  },
  {
   "cell_type": "code",
   "execution_count": 17,
   "metadata": {},
   "outputs": [
    {
     "data": {
      "text/plain": [
       "tensor([ 288,  507,  784, 1125, 1536, 2023], dtype=torch.int32)"
      ]
     },
     "execution_count": 17,
     "metadata": {},
     "output_type": "execute_result"
    }
   ],
   "source": [
    "a*b"
   ]
  },
  {
   "cell_type": "code",
   "execution_count": 22,
   "metadata": {},
   "outputs": [
    {
     "data": {
      "text/plain": [
       "tensor([[144, 169, 196, 225, 256, 289]], dtype=torch.int32)"
      ]
     },
     "execution_count": 22,
     "metadata": {},
     "output_type": "execute_result"
    }
   ],
   "source": [
    "a.resize_(1, a.shape[0])\n",
    "a"
   ]
  },
  {
   "cell_type": "code",
   "execution_count": 26,
   "metadata": {},
   "outputs": [
    {
     "data": {
      "text/plain": [
       "tensor(213.1667)"
      ]
     },
     "execution_count": 26,
     "metadata": {},
     "output_type": "execute_result"
    }
   ],
   "source": [
    "torch.mean(a.float())"
   ]
  },
  {
   "cell_type": "markdown",
   "metadata": {},
   "source": [
    "When finished, you can close the environment."
   ]
  },
  {
   "cell_type": "markdown",
   "metadata": {},
   "source": [
    "### 4. It's Your Turn!\n",
    "\n",
    "Now it's your turn to train your own agent to solve the environment!  When training the environment, set `train_mode=True`, so that the line for resetting the environment looks like the following:\n",
    "```python\n",
    "env_info = env.reset(train_mode=True)[brain_name]\n",
    "```"
   ]
  },
  {
   "cell_type": "code",
   "execution_count": 16,
   "metadata": {},
   "outputs": [
    {
     "data": {
      "text/plain": [
       "tensor([  1.0000,  -1.0000,   0.6570,   0.7000,   0.8000,   2.0000, -10.0000],\n",
       "       dtype=torch.float64)"
      ]
     },
     "execution_count": 16,
     "metadata": {},
     "output_type": "execute_result"
    }
   ],
   "source": [
    "import torch\n",
    "import numpy as np\n",
    "\n",
    "a = torch.from_numpy( np.array([1.0, -1.0, 0.657, 0.7, 0.8, 2.0, -10.0]) )\n",
    "a"
   ]
  },
  {
   "cell_type": "code",
   "execution_count": 22,
   "metadata": {},
   "outputs": [
    {
     "data": {
      "text/plain": [
       "tensor([ 1.0000, -0.0200,  0.6570,  0.7000,  0.8000,  2.0000, -0.2000],\n",
       "       dtype=torch.float64)"
      ]
     },
     "execution_count": 22,
     "metadata": {},
     "output_type": "execute_result"
    }
   ],
   "source": [
    "torch.nn.functional.leaky_relu(a, negative_slope = 0.02)"
   ]
  },
  {
   "cell_type": "code",
   "execution_count": 4,
   "metadata": {},
   "outputs": [],
   "source": [
    "import torch\n",
    "import torch.optim as optim\n",
    "import numpy as np\n",
    "import os\n",
    "\n",
    "\n",
    "from DeepQAgent.QNetwork import QNetwork"
   ]
  },
  {
   "cell_type": "code",
   "execution_count": 5,
   "metadata": {},
   "outputs": [],
   "source": [
    "trailNet = QNetwork(37, 4, 0)"
   ]
  },
  {
   "cell_type": "code",
   "execution_count": 23,
   "metadata": {},
   "outputs": [
    {
     "data": {
      "text/plain": [
       "tensor([1.0000, 0.0000, 0.0000, 0.0000, 0.8417, 0.0000, 0.0000, 1.0000, 0.0000,\n",
       "        0.0643, 0.0000, 1.0000, 0.0000, 0.0000, 0.2518, 1.0000, 0.0000, 0.0000,\n",
       "        0.0000, 0.7248, 0.0000, 1.0000, 0.0000, 0.0000, 0.2528, 0.0000, 0.0000,\n",
       "        1.0000, 0.0000, 0.0804, 0.0000, 1.0000, 0.0000, 0.0000, 0.3126, 0.0000,\n",
       "        7.8105])"
      ]
     },
     "execution_count": 23,
     "metadata": {},
     "output_type": "execute_result"
    }
   ],
   "source": [
    "tmp = [1.        , 0.        , 0.        , 0.        , 0.84173167, 0.        , 0.        , 1.        , 0.        , 0.06433759,\n",
    "       0.        , 1.        , 0.        , 0.        , 0.2517986 , 1.        , 0.        , 0.        , 0.        , 0.72478515,\n",
    "       0.        , 1.        , 0.        , 0.        , 0.2527748 , 0.        , 0.        , 1.        , 0.        , 0.08042004,\n",
    "       0.        , 1.        , 0.        , 0.        , 0.31255436, 0.        , 7.81049442\n",
    "      ]\n",
    "\n",
    "next_tmp = torch.from_numpy(np.array(tmp)).float()\n",
    "next_tmp"
   ]
  },
  {
   "cell_type": "code",
   "execution_count": 9,
   "metadata": {},
   "outputs": [
    {
     "data": {
      "text/plain": [
       "tensor([[1.0000, 0.0000, 0.0000, 0.0000, 0.8417, 0.0000, 0.0000, 1.0000, 0.0000,\n",
       "         0.0643, 0.0000, 1.0000, 0.0000, 0.0000, 0.2518, 1.0000, 0.0000, 0.0000,\n",
       "         0.0000, 0.7248, 0.0000, 1.0000, 0.0000, 0.0000, 0.2528, 0.0000, 0.0000,\n",
       "         1.0000, 0.0000, 0.0804, 0.0000, 1.0000, 0.0000, 0.0000, 0.3126, 0.0000,\n",
       "         7.8105]])"
      ]
     },
     "execution_count": 9,
     "metadata": {},
     "output_type": "execute_result"
    }
   ],
   "source": [
    "next_tmp.resize_(1, next_tmp.shape[0])"
   ]
  },
  {
   "cell_type": "code",
   "execution_count": 1,
   "metadata": {},
   "outputs": [],
   "source": [
    "import torch\n",
    "from DeepQAgent.Agent import ExpBuffer\n",
    "from DeepQAgent.QNetwork import QNetwork\n",
    "import numpy as np\n",
    "\n",
    "trial_agent = ExpBuffer( 64, 0, torch.device('cuda:0' if torch.cuda.is_available() else 'cpu:0') )"
   ]
  },
  {
   "cell_type": "code",
   "execution_count": 2,
   "metadata": {},
   "outputs": [
    {
     "data": {
      "text/plain": [
       "tensor([1.0000, 0.0000, 0.0000, 0.0000, 0.8417, 0.0000, 0.0000, 1.0000, 0.0000,\n",
       "        0.0643, 0.0000, 1.0000, 0.0000, 0.0000, 0.2518, 1.0000, 0.0000, 0.0000,\n",
       "        0.0000, 0.7248, 0.0000, 1.0000, 0.0000, 0.0000, 0.2528, 0.0000, 0.0000,\n",
       "        1.0000, 0.0000, 0.0804, 0.0000, 1.0000, 0.0000, 0.0000, 0.3126, 0.0000,\n",
       "        7.8105])"
      ]
     },
     "execution_count": 2,
     "metadata": {},
     "output_type": "execute_result"
    }
   ],
   "source": [
    "tmp = [1., 0., 0., 0., 0.84173167, 0., 0., 1., 0., 0.06433759,\n",
    "       0., 1., 0., 0., 0.2517986 , 1., 0., 0., 0., 0.72478515,\n",
    "       0., 1., 0., 0., 0.2527748 , 0., 0., 1., 0., 0.08042004,\n",
    "       0., 1., 0., 0., 0.31255436, 0., 7.81049442\n",
    "      ]\n",
    "\n",
    "tmp = torch.from_numpy(np.array(tmp)).float()\n",
    "next_tmp = torch.from_numpy(np.array(tmp)).float()\n",
    "next_tmp"
   ]
  },
  {
   "cell_type": "code",
   "execution_count": 3,
   "metadata": {},
   "outputs": [
    {
     "data": {
      "text/plain": [
       "tensor([[1.0000, 0.0000, 0.0000, 0.0000, 0.8417, 0.0000, 0.0000, 1.0000, 0.0000,\n",
       "         0.0643, 0.0000, 1.0000, 0.0000, 0.0000, 0.2518, 1.0000, 0.0000, 0.0000,\n",
       "         0.0000, 0.7248, 0.0000, 1.0000, 0.0000, 0.0000, 0.2528, 0.0000, 0.0000,\n",
       "         1.0000, 0.0000, 0.0804, 0.0000, 1.0000, 0.0000, 0.0000, 0.3126, 0.0000,\n",
       "         7.8105]])"
      ]
     },
     "execution_count": 3,
     "metadata": {},
     "output_type": "execute_result"
    }
   ],
   "source": [
    "tmp = torch.from_numpy( np.array(tmp) ).resize_(1, len(tmp)).float()\n",
    "tmp"
   ]
  },
  {
   "cell_type": "code",
   "execution_count": 4,
   "metadata": {},
   "outputs": [
    {
     "data": {
      "text/plain": [
       "tensor([1.0000, 0.0000, 0.0000, 0.0000, 0.8417, 0.0000, 0.0000, 1.0000, 0.0000,\n",
       "        0.0643, 0.0000, 1.0000, 0.0000, 0.0000, 0.2518, 1.0000, 0.0000, 0.0000,\n",
       "        0.0000, 0.7248, 0.0000, 1.0000, 0.0000, 0.0000, 0.2528, 0.0000, 0.0000,\n",
       "        1.0000, 0.0000, 0.0804, 0.0000, 1.0000, 0.0000, 0.0000, 0.3126, 0.0000,\n",
       "        7.8105])"
      ]
     },
     "execution_count": 4,
     "metadata": {},
     "output_type": "execute_result"
    }
   ],
   "source": [
    "next_tmp = next_tmp.float()\n",
    "next_tmp"
   ]
  },
  {
   "cell_type": "code",
   "execution_count": 5,
   "metadata": {},
   "outputs": [
    {
     "data": {
      "text/plain": [
       "(torch.Size([1, 37]), torch.Size([37]))"
      ]
     },
     "execution_count": 5,
     "metadata": {},
     "output_type": "execute_result"
    }
   ],
   "source": [
    "tmp.shape, next_tmp.shape"
   ]
  },
  {
   "cell_type": "code",
   "execution_count": 6,
   "metadata": {},
   "outputs": [
    {
     "data": {
      "text/plain": [
       "tensor([[ 0.0953, -0.1096,  0.0913, -0.0791]], grad_fn=<AddmmBackward>)"
      ]
     },
     "execution_count": 6,
     "metadata": {},
     "output_type": "execute_result"
    }
   ],
   "source": [
    "qvalues = QNetwork(37,4,0)(tmp)\n",
    "qvalues"
   ]
  },
  {
   "cell_type": "code",
   "execution_count": 7,
   "metadata": {},
   "outputs": [],
   "source": [
    "trial_agent.add_sample(target = 1.0, estimate = qvalues.max(1)[0], state = tmp, action = 1, reward = 100, next_state = next_tmp, done = False)\n",
    "trial_agent.add_sample(target = 1.0, estimate = qvalues.min(1)[0], state = tmp, action = 2, reward = -100, next_state = next_tmp, done = False)"
   ]
  },
  {
   "cell_type": "code",
   "execution_count": 8,
   "metadata": {},
   "outputs": [
    {
     "data": {
      "text/plain": [
       "tensor([-0.1096], grad_fn=<MinBackward0>)"
      ]
     },
     "execution_count": 8,
     "metadata": {},
     "output_type": "execute_result"
    }
   ],
   "source": [
    "qvalues.min(1)[0]"
   ]
  },
  {
   "cell_type": "code",
   "execution_count": 9,
   "metadata": {},
   "outputs": [
    {
     "data": {
      "text/plain": [
       "[tensor([0.4612]), tensor([0.5388])]"
      ]
     },
     "execution_count": 9,
     "metadata": {},
     "output_type": "execute_result"
    }
   ],
   "source": [
    "trial_agent.get_priorities()"
   ]
  },
  {
   "cell_type": "code",
   "execution_count": 10,
   "metadata": {},
   "outputs": [],
   "source": [
    "s, a, r, n_s, d = trial_agent.sample()"
   ]
  },
  {
   "cell_type": "code",
   "execution_count": 11,
   "metadata": {},
   "outputs": [
    {
     "data": {
      "text/plain": [
       "tensor([[1.0000, 0.0000, 0.0000,  ..., 0.3126, 0.0000, 7.8105],\n",
       "        [1.0000, 0.0000, 0.0000,  ..., 0.3126, 0.0000, 7.8105],\n",
       "        [1.0000, 0.0000, 0.0000,  ..., 0.3126, 0.0000, 7.8105],\n",
       "        ...,\n",
       "        [1.0000, 0.0000, 0.0000,  ..., 0.3126, 0.0000, 7.8105],\n",
       "        [1.0000, 0.0000, 0.0000,  ..., 0.3126, 0.0000, 7.8105],\n",
       "        [1.0000, 0.0000, 0.0000,  ..., 0.3126, 0.0000, 7.8105]],\n",
       "       device='cuda:0')"
      ]
     },
     "execution_count": 11,
     "metadata": {},
     "output_type": "execute_result"
    }
   ],
   "source": []
  },
  {
   "cell_type": "code",
   "execution_count": 23,
   "metadata": {},
   "outputs": [],
   "source": [
    "z = torch.from_numpy(np.array([i + 0.5 for i in range(5)]))"
   ]
  },
  {
   "cell_type": "code",
   "execution_count": 24,
   "metadata": {},
   "outputs": [],
   "source": [
    "z.requires_grad = False"
   ]
  },
  {
   "cell_type": "code",
   "execution_count": 4,
   "metadata": {},
   "outputs": [
    {
     "data": {
      "text/plain": [
       "array([0, 1, 2, 3, 4, 5, 6, 7, 8, 9])"
      ]
     },
     "execution_count": 4,
     "metadata": {},
     "output_type": "execute_result"
    }
   ],
   "source": [
    "a = np.array([i for i in range(10)])\n",
    "a"
   ]
  },
  {
   "cell_type": "code",
   "execution_count": 11,
   "metadata": {},
   "outputs": [],
   "source": [
    "a = [i for i in range(11, 20)]"
   ]
  },
  {
   "cell_type": "code",
   "execution_count": 13,
   "metadata": {},
   "outputs": [
    {
     "data": {
      "text/plain": [
       "17"
      ]
     },
     "execution_count": 13,
     "metadata": {},
     "output_type": "execute_result"
    }
   ],
   "source": [
    "np.random.choice(a)"
   ]
  },
  {
   "cell_type": "code",
   "execution_count": 15,
   "metadata": {},
   "outputs": [
    {
     "data": {
      "text/plain": [
       "0.24668202443497522"
      ]
     },
     "execution_count": 15,
     "metadata": {},
     "output_type": "execute_result"
    }
   ],
   "source": [
    "import random\n",
    "random.random()"
   ]
  },
  {
   "cell_type": "code",
   "execution_count": 22,
   "metadata": {},
   "outputs": [
    {
     "data": {
      "text/plain": [
       "0.3114221913826162"
      ]
     },
     "execution_count": 22,
     "metadata": {},
     "output_type": "execute_result"
    }
   ],
   "source": [
    "random.random()"
   ]
  },
  {
   "cell_type": "code",
   "execution_count": 29,
   "metadata": {},
   "outputs": [
    {
     "data": {
      "text/plain": [
       "4"
      ]
     },
     "execution_count": 29,
     "metadata": {},
     "output_type": "execute_result"
    }
   ],
   "source": [
    "np.argmax(z.data.numpy())"
   ]
  },
  {
   "cell_type": "code",
   "execution_count": 31,
   "metadata": {},
   "outputs": [
    {
     "data": {
      "text/plain": [
       "[1, 2, 3, 4, 5, 6]"
      ]
     },
     "execution_count": 31,
     "metadata": {},
     "output_type": "execute_result"
    }
   ],
   "source": [
    "a = [1, 2, 3, 4, 5, 6]\n",
    "a"
   ]
  },
  {
   "cell_type": "code",
   "execution_count": 32,
   "metadata": {},
   "outputs": [],
   "source": [
    "del a[3]"
   ]
  },
  {
   "cell_type": "code",
   "execution_count": 33,
   "metadata": {},
   "outputs": [
    {
     "data": {
      "text/plain": [
       "[1, 2, 3, 5, 6]"
      ]
     },
     "execution_count": 33,
     "metadata": {},
     "output_type": "execute_result"
    }
   ],
   "source": [
    "a"
   ]
  },
  {
   "cell_type": "code",
   "execution_count": 63,
   "metadata": {},
   "outputs": [
    {
     "data": {
      "text/plain": [
       "tensor([[ 1,  2,  3,  4,  5,  6,  7,  8,  9, 10, 11, 12, 13, 14, 15, 16, 17, 18,\n",
       "         19, 20, 21, 22, 23, 24, 25, 26, 27, 28, 29, 30, 31, 32, 33, 34, 35, 36,\n",
       "         37]], device='cuda:0', dtype=torch.int32)"
      ]
     },
     "execution_count": 63,
     "metadata": {},
     "output_type": "execute_result"
    }
   ],
   "source": [
    "device = torch.device(\"cuda:0\" if torch.cuda.is_available() else \"cpu:0\")\n",
    "a = np.array([i for i in range(1, 38)])\n",
    "a.resize(1, a.shape[0])\n",
    "a = torch.from_numpy(a).to(device)\n",
    "a"
   ]
  },
  {
   "cell_type": "code",
   "execution_count": 64,
   "metadata": {},
   "outputs": [
    {
     "data": {
      "text/plain": [
       "(37, torch.Size([1, 37]))"
      ]
     },
     "execution_count": 64,
     "metadata": {},
     "output_type": "execute_result"
    }
   ],
   "source": [
    "a.cpu().data.numpy().max(), a.shape"
   ]
  },
  {
   "cell_type": "code",
   "execution_count": 65,
   "metadata": {},
   "outputs": [
    {
     "data": {
      "text/plain": [
       "tensor([[ 1.,  2.,  3.,  4.,  5.,  6.,  7.,  8.,  9., 10., 11., 12., 13., 14.,\n",
       "         15., 16., 17., 18., 19., 20., 21., 22., 23., 24., 25., 26., 27., 28.,\n",
       "         29., 30., 31., 32., 33., 34., 35., 36., 37.]])"
      ]
     },
     "execution_count": 65,
     "metadata": {},
     "output_type": "execute_result"
    }
   ],
   "source": [
    "a = a.cpu().float()\n",
    "a"
   ]
  },
  {
   "cell_type": "code",
   "execution_count": 66,
   "metadata": {},
   "outputs": [
    {
     "data": {
      "text/plain": [
       "tensor([[ 0.5342, -0.2318,  0.0284,  0.2815]], grad_fn=<AddmmBackward>)"
      ]
     },
     "execution_count": 66,
     "metadata": {},
     "output_type": "execute_result"
    }
   ],
   "source": [
    "qvalues = QNetwork(37,4,0)(a)\n",
    "qvalues"
   ]
  },
  {
   "cell_type": "code",
   "execution_count": 67,
   "metadata": {},
   "outputs": [
    {
     "data": {
      "text/plain": [
       "0.53423786"
      ]
     },
     "execution_count": 67,
     "metadata": {},
     "output_type": "execute_result"
    }
   ],
   "source": [
    "qvalues.data.numpy().max()"
   ]
  },
  {
   "cell_type": "code",
   "execution_count": 70,
   "metadata": {},
   "outputs": [
    {
     "data": {
      "text/plain": [
       "tensor([[ 0.5342, -0.2318,  0.0284,  0.2815]], grad_fn=<AddmmBackward>)"
      ]
     },
     "execution_count": 70,
     "metadata": {},
     "output_type": "execute_result"
    }
   ],
   "source": [
    "qvalues"
   ]
  },
  {
   "cell_type": "code",
   "execution_count": 75,
   "metadata": {},
   "outputs": [
    {
     "data": {
      "text/plain": [
       "dtype('int32')"
      ]
     },
     "execution_count": 75,
     "metadata": {},
     "output_type": "execute_result"
    }
   ],
   "source": [
    "np.random.choice(np.arange(qvalues.shape[1])).dtype"
   ]
  },
  {
   "cell_type": "code",
   "execution_count": 79,
   "metadata": {},
   "outputs": [
    {
     "data": {
      "text/plain": [
       "dtype('int32')"
      ]
     },
     "execution_count": 79,
     "metadata": {},
     "output_type": "execute_result"
    }
   ],
   "source": [
    "k = np.argmax(qvalues.cpu().data.numpy()).astype('int32')\n",
    "k.dtype"
   ]
  },
  {
   "cell_type": "code",
   "execution_count": 56,
   "metadata": {},
   "outputs": [
    {
     "data": {
      "text/plain": [
       "0.534"
      ]
     },
     "execution_count": 56,
     "metadata": {},
     "output_type": "execute_result"
    }
   ],
   "source": [
    "np.round(qvalues.data.numpy().max(), 3)"
   ]
  },
  {
   "cell_type": "code",
   "execution_count": 57,
   "metadata": {},
   "outputs": [
    {
     "data": {
      "text/plain": [
       "[1, 2, 3, 4, 5, 6, 7, 8, 9, 10]"
      ]
     },
     "execution_count": 57,
     "metadata": {},
     "output_type": "execute_result"
    }
   ],
   "source": [
    "a = [i for i in range(1, 11)]\n",
    "a"
   ]
  },
  {
   "cell_type": "code",
   "execution_count": 62,
   "metadata": {},
   "outputs": [
    {
     "data": {
      "text/plain": [
       "([6, 7, 8, 9, 10], 8.0)"
      ]
     },
     "execution_count": 62,
     "metadata": {},
     "output_type": "execute_result"
    }
   ],
   "source": [
    "k = 5\n",
    "a[-k:], np.mean(a[-k:])"
   ]
  },
  {
   "cell_type": "code",
   "execution_count": 3,
   "metadata": {},
   "outputs": [
    {
     "data": {
      "text/plain": [
       "deque([1, 2, 3, 4, 5, 6, 7, 8, 9, 10])"
      ]
     },
     "execution_count": 3,
     "metadata": {},
     "output_type": "execute_result"
    }
   ],
   "source": [
    "from collections import deque, namedtuple\n",
    "\n",
    "d = deque(maxlen = 10)\n",
    "for i in range(10):\n",
    "    d.append(1+i)\n",
    "    \n",
    "d"
   ]
  },
  {
   "cell_type": "code",
   "execution_count": 7,
   "metadata": {},
   "outputs": [
    {
     "data": {
      "text/plain": [
       "(deque([1, 2, 3, 4, 5, 6, 7, 8, 9, 10]), deque([6, 7, 8, 9, 10]))"
      ]
     },
     "execution_count": 7,
     "metadata": {},
     "output_type": "execute_result"
    }
   ],
   "source": [
    "deque(sorted(d)), deque(sorted(d), maxlen = 5)"
   ]
  },
  {
   "cell_type": "code",
   "execution_count": 23,
   "metadata": {},
   "outputs": [
    {
     "data": {
      "text/plain": [
       "deque([exp(f=10, s=1),\n",
       "       exp(f=9, s=2),\n",
       "       exp(f=8, s=3),\n",
       "       exp(f=7, s=4),\n",
       "       exp(f=6, s=5),\n",
       "       exp(f=5, s=6),\n",
       "       exp(f=4, s=7),\n",
       "       exp(f=3, s=8),\n",
       "       exp(f=2, s=9),\n",
       "       exp(f=1, s=10)])"
      ]
     },
     "execution_count": 23,
     "metadata": {},
     "output_type": "execute_result"
    }
   ],
   "source": [
    "exp = namedtuple('exp', ['f', 's'])\n",
    "p = deque([exp( 10-i, i+1 ) for i in range(10)])\n",
    "p"
   ]
  },
  {
   "cell_type": "code",
   "execution_count": 24,
   "metadata": {},
   "outputs": [
    {
     "data": {
      "text/plain": [
       "[exp(f=6, s=5), exp(f=7, s=4), exp(f=8, s=3), exp(f=9, s=2), exp(f=10, s=1)]"
      ]
     },
     "execution_count": 24,
     "metadata": {},
     "output_type": "execute_result"
    }
   ],
   "source": [
    "p = sorted( p, key = lambda x: x.f)[-5:]\n",
    "p"
   ]
  },
  {
   "cell_type": "code",
   "execution_count": 26,
   "metadata": {},
   "outputs": [
    {
     "data": {
      "text/plain": [
       "deque([exp(f=6, s=5),\n",
       "       exp(f=7, s=4),\n",
       "       exp(f=8, s=3),\n",
       "       exp(f=9, s=2),\n",
       "       exp(f=10, s=1)])"
      ]
     },
     "execution_count": 26,
     "metadata": {},
     "output_type": "execute_result"
    }
   ],
   "source": [
    "# int(3*1e5) - 102400\n",
    "p = deque(p, maxlen = 10)\n",
    "p"
   ]
  },
  {
   "cell_type": "code",
   "execution_count": 27,
   "metadata": {},
   "outputs": [
    {
     "data": {
      "text/plain": [
       "10"
      ]
     },
     "execution_count": 27,
     "metadata": {},
     "output_type": "execute_result"
    }
   ],
   "source": [
    "p.append(exp( 20, 1 ))\n",
    "p.append(exp( 19, 2 ))\n",
    "p.append(exp( 18, 3 ))\n",
    "p.append(exp( 17, 4 ))\n",
    "p.append(exp( 16, 5 ))\n",
    "len(p)"
   ]
  },
  {
   "cell_type": "code",
   "execution_count": 28,
   "metadata": {},
   "outputs": [
    {
     "data": {
      "text/plain": [
       "deque([exp(f=6, s=5),\n",
       "       exp(f=7, s=4),\n",
       "       exp(f=8, s=3),\n",
       "       exp(f=9, s=2),\n",
       "       exp(f=10, s=1),\n",
       "       exp(f=20, s=1),\n",
       "       exp(f=19, s=2),\n",
       "       exp(f=18, s=3),\n",
       "       exp(f=17, s=4),\n",
       "       exp(f=16, s=5)])"
      ]
     },
     "execution_count": 28,
     "metadata": {},
     "output_type": "execute_result"
    }
   ],
   "source": [
    "p"
   ]
  },
  {
   "cell_type": "code",
   "execution_count": 29,
   "metadata": {},
   "outputs": [],
   "source": [
    "p.append(exp( 15, 4 ))"
   ]
  },
  {
   "cell_type": "code",
   "execution_count": 30,
   "metadata": {},
   "outputs": [
    {
     "data": {
      "text/plain": [
       "deque([exp(f=7, s=4),\n",
       "       exp(f=8, s=3),\n",
       "       exp(f=9, s=2),\n",
       "       exp(f=10, s=1),\n",
       "       exp(f=20, s=1),\n",
       "       exp(f=19, s=2),\n",
       "       exp(f=18, s=3),\n",
       "       exp(f=17, s=4),\n",
       "       exp(f=16, s=5),\n",
       "       exp(f=15, s=4)])"
      ]
     },
     "execution_count": 30,
     "metadata": {},
     "output_type": "execute_result"
    }
   ],
   "source": [
    "p"
   ]
  },
  {
   "cell_type": "code",
   "execution_count": 31,
   "metadata": {},
   "outputs": [
    {
     "data": {
      "text/plain": [
       "6000"
      ]
     },
     "execution_count": 31,
     "metadata": {},
     "output_type": "execute_result"
    }
   ],
   "source": [
    "int(6*1e3)"
   ]
  },
  {
   "cell_type": "code",
   "execution_count": 29,
   "metadata": {},
   "outputs": [
    {
     "name": "stdout",
     "output_type": "stream",
     "text": [
      "0.99\n",
      "0.98\n",
      "0.97\n",
      "0.961\n",
      "0.951\n",
      "0.941\n",
      "0.932\n",
      "0.923\n",
      "0.914\n",
      "0.904\n",
      "0.895\n",
      "0.886\n",
      "0.878\n",
      "0.869\n",
      "0.86\n",
      "0.851\n",
      "0.843\n",
      "0.835\n",
      "0.826\n",
      "0.818\n",
      "0.81\n",
      "0.802\n",
      "0.794\n",
      "0.786\n",
      "0.778\n",
      "0.77\n",
      "0.762\n",
      "0.755\n",
      "0.747\n",
      "0.74\n",
      "0.732\n",
      "0.725\n",
      "0.718\n",
      "0.711\n",
      "0.703\n",
      "0.696\n",
      "0.689\n",
      "0.683\n",
      "0.676\n",
      "0.669\n",
      "0.662\n",
      "0.656\n",
      "0.649\n",
      "0.643\n",
      "0.636\n",
      "0.63\n",
      "0.624\n",
      "0.617\n",
      "0.611\n",
      "0.605\n",
      "0.599\n",
      "0.593\n",
      "0.587\n",
      "0.581\n",
      "0.575\n",
      "0.57\n",
      "0.564\n",
      "0.558\n",
      "0.553\n",
      "0.547\n",
      "0.542\n",
      "0.536\n",
      "0.531\n",
      "0.526\n",
      "0.52\n",
      "0.515\n",
      "0.51\n",
      "0.505\n",
      "0.5\n",
      "0.495\n",
      "0.49\n",
      "0.485\n",
      "0.48\n",
      "0.475\n",
      "0.471\n",
      "0.466\n",
      "0.461\n",
      "0.457\n",
      "0.452\n",
      "0.448\n",
      "0.443\n",
      "0.439\n",
      "0.434\n",
      "0.43\n",
      "0.426\n",
      "0.421\n",
      "0.417\n",
      "0.413\n",
      "0.409\n",
      "0.405\n",
      "0.401\n",
      "0.397\n",
      "0.393\n",
      "0.389\n",
      "0.385\n",
      "0.381\n",
      "0.377\n",
      "0.373\n",
      "0.37\n",
      "0.366\n",
      "0.362\n",
      "0.359\n",
      "0.355\n",
      "0.352\n",
      "0.348\n",
      "0.345\n",
      "0.341\n",
      "0.338\n",
      "0.334\n",
      "0.331\n",
      "0.328\n",
      "0.324\n",
      "0.321\n",
      "0.318\n",
      "0.315\n",
      "0.312\n",
      "0.309\n",
      "0.305\n",
      "0.302\n",
      "0.299\n",
      "0.296\n",
      "0.293\n",
      "0.29\n",
      "0.288\n",
      "0.285\n",
      "0.282\n",
      "0.279\n",
      "0.276\n",
      "0.273\n",
      "0.271\n",
      "0.268\n",
      "0.265\n",
      "0.263\n",
      "0.26\n",
      "0.257\n",
      "0.255\n",
      "0.252\n",
      "0.25\n",
      "0.247\n",
      "0.245\n",
      "0.242\n",
      "0.24\n",
      "0.238\n",
      "0.235\n",
      "0.233\n",
      "0.231\n",
      "0.228\n",
      "0.226\n",
      "0.224\n",
      "0.221\n",
      "0.219\n",
      "0.217\n",
      "0.215\n",
      "0.213\n",
      "0.211\n",
      "0.208\n",
      "0.206\n",
      "0.204\n",
      "0.202\n",
      "0.2\n",
      "0.198\n",
      "0.196\n",
      "0.194\n",
      "0.192\n",
      "0.19\n",
      "0.189\n",
      "0.187\n",
      "0.185\n",
      "0.183\n",
      "0.181\n",
      "0.179\n",
      "0.178\n",
      "0.176\n",
      "0.174\n",
      "0.172\n",
      "0.171\n",
      "0.169\n",
      "0.167\n",
      "0.165\n",
      "0.164\n",
      "0.162\n",
      "0.161\n",
      "0.159\n",
      "0.157\n",
      "0.156\n",
      "0.154\n",
      "0.153\n",
      "0.151\n",
      "189\n"
     ]
    }
   ],
   "source": [
    "import numpy as np\n",
    "eps = 1.0\n",
    "eps_decay = 0.99 # 0.985\n",
    "for i in range(301):\n",
    "    eps = eps * eps_decay\n",
    "    if eps < 0.15:\n",
    "        print(i+1)\n",
    "        break\n",
    "    print(np.round(eps, 3))"
   ]
  },
  {
   "cell_type": "code",
   "execution_count": 12,
   "metadata": {},
   "outputs": [
    {
     "name": "stdout",
     "output_type": "stream",
     "text": [
      "  16902KeyboardInterrupt exception is caught  11894  \n"
     ]
    }
   ],
   "source": [
    "try:\n",
    "    for i in range(int(1e6)):\n",
    "        print(\"\\r \", i, end = \" \")\n",
    "except KeyboardInterrupt:\n",
    "    print ('KeyboardInterrupt exception is caught')\n",
    "else:\n",
    "    print ('No exceptions are caught')"
   ]
  },
  {
   "cell_type": "code",
   "execution_count": 1,
   "metadata": {},
   "outputs": [
    {
     "data": {
      "text/plain": [
       "0.9095325760829622"
      ]
     },
     "execution_count": 1,
     "metadata": {},
     "output_type": "execute_result"
    }
   ],
   "source": [
    "0.9**0.9"
   ]
  },
  {
   "cell_type": "code",
   "execution_count": 2,
   "metadata": {},
   "outputs": [
    {
     "data": {
      "text/plain": [
       "0.81"
      ]
     },
     "execution_count": 2,
     "metadata": {},
     "output_type": "execute_result"
    }
   ],
   "source": [
    "0.9**2"
   ]
  },
  {
   "cell_type": "code",
   "execution_count": 9,
   "metadata": {},
   "outputs": [
    {
     "data": {
      "text/plain": [
       "0.9998946450345664"
      ]
     },
     "execution_count": 9,
     "metadata": {},
     "output_type": "execute_result"
    }
   ],
   "source": [
    "0.9**0.001"
   ]
  },
  {
   "cell_type": "code",
   "execution_count": null,
   "metadata": {},
   "outputs": [],
   "source": []
  }
 ],
 "metadata": {
  "kernelspec": {
   "display_name": "Python 3",
   "language": "python",
   "name": "python3"
  },
  "language_info": {
   "codemirror_mode": {
    "name": "ipython",
    "version": 3
   },
   "file_extension": ".py",
   "mimetype": "text/x-python",
   "name": "python",
   "nbconvert_exporter": "python",
   "pygments_lexer": "ipython3",
   "version": "3.7.4"
  }
 },
 "nbformat": 4,
 "nbformat_minor": 2
}
