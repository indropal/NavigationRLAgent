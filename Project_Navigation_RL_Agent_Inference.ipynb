{
 "cells": [
  {
   "cell_type": "code",
   "execution_count": 1,
   "metadata": {},
   "outputs": [
    {
     "name": "stderr",
     "output_type": "stream",
     "text": [
      "C:\\Users\\palin\\Anaconda3\\lib\\site-packages\\statsmodels\\tools\\_testing.py:19: FutureWarning: pandas.util.testing is deprecated. Use the functions in the public API at pandas.testing instead.\n",
      "  import pandas.util.testing as tm\n"
     ]
    }
   ],
   "source": [
    "from unityagents import UnityEnvironment\n",
    "import numpy as np\n",
    "import torch\n",
    "import os\n",
    "import seaborn as sns\n",
    "import time\n",
    "from collections import namedtuple\n",
    "import matplotlib.pyplot as plt\n",
    "\n",
    "from DeepQAgent.Agent import Agent as DQNAgent\n",
    "from DeepQAgent.Agent_Priority import Agent as DQN_Prioritized_Agent\n",
    "from DeepQAgent.Agent_Priority import ExpBuffer\n",
    "\n",
    "from DeepQAgent.QNetwork import QNetwork"
   ]
  },
  {
   "cell_type": "markdown",
   "metadata": {},
   "source": [
    "<h3>Load & instantiate the RL Environment</h3>"
   ]
  },
  {
   "cell_type": "code",
   "execution_count": 2,
   "metadata": {},
   "outputs": [
    {
     "name": "stderr",
     "output_type": "stream",
     "text": [
      "INFO:unityagents:\n",
      "'Academy' started successfully!\n",
      "Unity Academy name: Academy\n",
      "        Number of Brains: 1\n",
      "        Number of External Brains : 1\n",
      "        Lesson number : 0\n",
      "        Reset Parameters :\n",
      "\t\t\n",
      "Unity brain name: BananaBrain\n",
      "        Number of Visual Observations (per agent): 0\n",
      "        Vector Observation space type: continuous\n",
      "        Vector Observation space size (per agent): 37\n",
      "        Number of stacked Vector Observation: 1\n",
      "        Vector Action space type: discrete\n",
      "        Vector Action space size (per agent): 4\n",
      "        Vector Action descriptions: , , , \n"
     ]
    }
   ],
   "source": [
    "# Load the Environment\n",
    "env = UnityEnvironment(file_name=\"./Navigation_Environment/Banana.exe\")"
   ]
  },
  {
   "cell_type": "code",
   "execution_count": 3,
   "metadata": {},
   "outputs": [],
   "source": [
    "brain_name = env.brain_names[0]\n",
    "brain = env.brains[brain_name]\n",
    "\n",
    "action_size = brain.vector_action_space_size       # get the size of the action space\n",
    "env_info = env.reset(train_mode=True)[brain_name] # reset the environment\n",
    "state = env_info.vector_observations[0]            # get the current state\n",
    "state_size = len(state)\n",
    "score = 0                                          # initialize the score\n",
    "seed = 0"
   ]
  },
  {
   "cell_type": "markdown",
   "metadata": {},
   "source": [
    "<h3>Define H-params & instantiate RL Agent object</h3>"
   ]
  },
  {
   "cell_type": "code",
   "execution_count": 4,
   "metadata": {},
   "outputs": [],
   "source": [
    "IS_PRIORITIZED_REPLAY = False #True"
   ]
  },
  {
   "cell_type": "code",
   "execution_count": 5,
   "metadata": {},
   "outputs": [],
   "source": [
    "# total number of Episodes for Training Agent\n",
    "num_episodes = 100\n",
    "\n",
    "# Define the Agent\n",
    "\n",
    "agent = None\n",
    "\n",
    "if IS_PRIORITIZED_REPLAY:\n",
    "    # Agent instantiation with Prioritized Experience Replay\n",
    "    agent = DQN_Prioritized_Agent( state_size, action_size, seed,\n",
    "                                   torch.device('cuda:0' if torch.cuda.is_available() else 'cpu:0')\n",
    "                                 )\n",
    "else:\n",
    "    # Agent instantiation without Prioritized Experience Replay\n",
    "    agent = DQNAgent( state_size, action_size, seed )\n",
    "\n",
    "epsilon_thresh = 0.1 # 0.1\n",
    "epsilon_decay = 0.99 # 0.999995 # find a decay factor so that epsilon decays each timestep to close to 0 in One episode\n",
    "episodic_epsilon_decay = 0.985\n",
    "epi_epsilon = 1/(episodic_epsilon_decay) # The first Episode should start from 1.0 -> we'll be decaying over Episodes too\n",
    "episode_score = []"
   ]
  },
  {
   "cell_type": "code",
   "execution_count": 6,
   "metadata": {
    "scrolled": true
   },
   "outputs": [
    {
     "data": {
      "text/plain": [
       "array([[0., 0., 0., ..., 0., 0., 0.],\n",
       "       [0., 0., 0., ..., 0., 0., 0.],\n",
       "       [0., 0., 0., ..., 0., 0., 0.],\n",
       "       [0., 0., 0., ..., 0., 0., 0.]])"
      ]
     },
     "execution_count": 6,
     "metadata": {},
     "output_type": "execute_result"
    }
   ],
   "source": [
    "# define container to store the Action-heatmap\n",
    "# There are 300 timesteps in each episode\n",
    "# ~ define a Heatmap container which has 'Action-Space' number of rows & 'episode-timesteps' equivalent\n",
    "# number of columns\n",
    "\n",
    "action_hmap = np.zeros((action_size, 300))\n",
    "\n",
    "action_hmap"
   ]
  },
  {
   "cell_type": "markdown",
   "metadata": {},
   "source": [
    "<h4>Load stored Agent DQN model</h4>"
   ]
  },
  {
   "cell_type": "code",
   "execution_count": 7,
   "metadata": {},
   "outputs": [
    {
     "data": {
      "text/plain": [
       "<All keys matched successfully>"
      ]
     },
     "execution_count": 7,
     "metadata": {},
     "output_type": "execute_result"
    }
   ],
   "source": [
    "# Load from check point if any\n",
    "agent.qnetwork_local.load_state_dict( torch.load('./DeepQAgent/Vanilla_Q_Agent_QLocal_Score_Thresh_13.4.pth')['state_dict'] )\n",
    "agent.qnetwork_target.load_state_dict( torch.load('./DeepQAgent/Vanilla_Q_Agent_QTarget_Score_Thresh_13.4.pth')['state_dict'] )"
   ]
  },
  {
   "cell_type": "markdown",
   "metadata": {},
   "source": [
    "<h3>Run Inference on the Environment for the Loaded Agent Model</h3>"
   ]
  },
  {
   "cell_type": "code",
   "execution_count": 8,
   "metadata": {},
   "outputs": [
    {
     "name": "stdout",
     "output_type": "stream",
     "text": [
      "Episode: 100 ~ Tstep: 301| Score: 8.0                                                               \n",
      "Total Elapsed Simulation time: 149.365 seconds | 2.49 minutes\n"
     ]
    }
   ],
   "source": [
    "start_time = time.time()\n",
    "\n",
    "try: \n",
    "    for i in range(num_episodes):\n",
    "        \"\"\"\n",
    "            At the beginning of the Episode ->\n",
    "                1> Initialise the episode_score = 0\n",
    "                2> Reset the Environment State\n",
    "        \"\"\"\n",
    "        score = 0                                         # Initialise Agent's episode score\n",
    "        inspect_score = 0                                 # Initilaise Avg Score over 'inpect_episodes'\n",
    "        env_info = env.reset(train_mode=True)[brain_name] # reset the environment\n",
    "        state = env_info.vector_observations[0]           # get the curent state\n",
    "        \n",
    "        # epsilon = 1.0 at first Episode -> decay episodic epsilon over episodes\n",
    "        epi_epsilon = epi_epsilon*episodic_epsilon_decay  \n",
    "        epi_epsilon = 0.0 if epi_epsilon < epsilon_thresh else epi_epsilon # threshold to stop Agent action Exploration\n",
    "        \n",
    "        epsilon = epi_epsilon # init epsilon for one Episode which wil decay over timesteps in an Episode\n",
    "        \n",
    "        done = False\n",
    "        episode_start_time = time.time()\n",
    "        timestep = 1\n",
    "        yellow, blue = 0, 0\n",
    "\n",
    "        # Keep running the environment simulation until the Terminal State has been reached\n",
    "        # EPISODE RUN\n",
    "        while not done:\n",
    "            \n",
    "            action, q_estimate = None, None\n",
    "            \n",
    "            if IS_PRIORITIZED_REPLAY:\n",
    "                # Agent WITH Prioritized Action Replay\n",
    "                action, q_estimate = agent.act(state, epsilon) # Agent Action\n",
    "            else:\n",
    "                # Agent without any Prioritized Action Replay\n",
    "                action = agent.act(state, epsilon) # action = agent.act(state)\n",
    "            \n",
    "            action = action.astype('int32')\n",
    "            \n",
    "            # Update the Action Heatmap for the specific timestep in the Episode\n",
    "            action_hmap[action][timestep-1] += 1\n",
    "            \n",
    "            env_info = env.step(action)[brain_name] # send Agent action to the Environment\n",
    "\n",
    "            # Obtain:> 'next_state', 'reward', 'done' params for the Agent-Environment interaction\n",
    "            next_state = env_info.vector_observations[0]   \n",
    "            reward = env_info.rewards[0]                   \n",
    "            done = env_info.local_done[0]     \n",
    "            \n",
    "            # Update the timestep-score\n",
    "            score += reward\n",
    "\n",
    "            # State-transition: update current state to next state\n",
    "            state = next_state\n",
    "\n",
    "            # Epsion (Greedy parameter) decay over timesteps & capping to low_thresh of 0.1\n",
    "            epsilon = epsilon * epsilon_decay\n",
    "            epsilon = 0.0001 if epsilon < epsilon_thresh else epsilon  \n",
    "\n",
    "            timestep += 1\n",
    "\n",
    "        # One EPISODE RUN has completed\n",
    "        episode_score.append(score)\n",
    "\n",
    "        log=\"Episode: {} ~ Tstep: {}| Score: {}\".format( i+1, timestep, score )\n",
    "        \n",
    "        log = log + \" \"*(100 - len(log))\n",
    "        print( log, end = \"\\r\" );# print(log)\n",
    "        \n",
    "except KeyboardInterrupt:\n",
    "    print(\"\\nKeyboardInterrupt exception -> Aborting RL Agent Train\")\n",
    "    \n",
    "end_time = time.time()\n",
    "simul_time = np.round(end_time-start_time, 3)\n",
    "\n",
    "print(\"\\nTotal Elapsed Simulation time: {} seconds | {} minutes\".format( simul_time, np.round(simul_time/60.0, 2) )\n",
    "     )\n",
    "\n",
    "# Close the Environment\n",
    "env.close()"
   ]
  },
  {
   "cell_type": "markdown",
   "metadata": {},
   "source": [
    "<h4>Get Heatmap for Agent Reward observed during Inference</h4>"
   ]
  },
  {
   "cell_type": "code",
   "execution_count": 31,
   "metadata": {},
   "outputs": [
    {
     "data": {
      "image/png": "[encoded data removed]",
      "text/plain": [
       "<Figure size 1440x72 with 2 Axes>"
      ]
     },
     "metadata": {
      "needs_background": "light"
     },
     "output_type": "display_data"
    }
   ],
   "source": [
    "%matplotlib inline\n",
    "\n",
    "plt.figure(figsize=(20, 1))\n",
    "sns.heatmap(np.reshape(episode_score, (1, len(episode_score))), cmap=\"rocket_r\")\n",
    "\n",
    "plt.xlabel(\"Episodes\")\n",
    "plt.title(\"Agent Reward Points per Episode during Inference Run\")\n",
    "\n",
    "plt.show()"
   ]
  },
  {
   "cell_type": "markdown",
   "metadata": {},
   "source": [
    "<h4>Get Heatmap for Agent Action-Space Decisions per timestep in Episode observed during Inference</h4>"
   ]
  },
  {
   "cell_type": "code",
   "execution_count": 43,
   "metadata": {},
   "outputs": [
    {
     "data": {
      "image/png": "[encoded data removed]",
      "text/plain": [
       "<Figure size 1440x432 with 2 Axes>"
      ]
     },
     "metadata": {
      "needs_background": "light"
     },
     "output_type": "display_data"
    }
   ],
   "source": [
    "%matplotlib inline\n",
    "\n",
    "plt.figure(figsize=(20, 6))\n",
    "sns.heatmap(action_hmap/num_episodes, cmap=\"icefire\")\n",
    "\n",
    "plt.xlabel(\"Timesteps in an Episode\")\n",
    "plt.ylabel(\"Agent Actions\")\n",
    "plt.title(\"Agent Action-Heatmap per Timestep in Episode\")\n",
    "\n",
    "plt.show()"
   ]
  }
 ],
 "metadata": {
  "kernelspec": {
   "display_name": "Python 3",
   "language": "python",
   "name": "python3"
  },
  "language_info": {
   "codemirror_mode": {
    "name": "ipython",
    "version": 3
   },
   "file_extension": ".py",
   "mimetype": "text/x-python",
   "name": "python",
   "nbconvert_exporter": "python",
   "pygments_lexer": "ipython3",
   "version": "3.7.4"
  }
 },
 "nbformat": 4,
 "nbformat_minor": 2
}
